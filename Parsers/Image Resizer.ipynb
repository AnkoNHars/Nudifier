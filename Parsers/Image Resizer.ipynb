{
 "cells": [
  {
   "cell_type": "code",
   "execution_count": 2,
   "metadata": {},
   "outputs": [],
   "source": [
    "import cv2\n",
    "import os\n",
    "from PIL import Image"
   ]
  },
  {
   "cell_type": "code",
   "execution_count": 17,
   "metadata": {},
   "outputs": [
    {
     "data": {
      "text/plain": [
       "(640, 640, 3)"
      ]
     },
     "execution_count": 17,
     "metadata": {},
     "output_type": "execute_result"
    }
   ],
   "source": [
    "cv2.imread('data/256x256/cropped/test/face/0.png').shape"
   ]
  },
  {
   "cell_type": "code",
   "execution_count": 12,
   "metadata": {},
   "outputs": [],
   "source": [
    "def resize_images(source_path, target_path, size):\n",
    "    for subdir, dirs, files in os.walk(source_path):\n",
    "        for file in files:\n",
    "            filepath = subdir + os.sep + file\n",
    "            im = cv2.imread(filepath)\n",
    "            resized_image = cv2.resize(im, size)\n",
    "            image = Image.fromarray(resized_image[:,:,::-1], 'RGB')\n",
    "            image.save(target_path +'/'+file)\n",
    "            print(file)"
   ]
  },
  {
   "cell_type": "code",
   "execution_count": null,
   "metadata": {},
   "outputs": [
    {
     "name": "stdout",
     "output_type": "stream",
     "text": [
      "8.png\n",
      "22.png\n",
      "7.png\n",
      "24.png\n",
      "12.png\n",
      "0.png\n",
      "19.png\n",
      "27.png\n",
      "18.png\n",
      "11.png\n",
      "5.png\n",
      "1.png\n",
      "13.png\n",
      "2.png\n"
     ]
    }
   ],
   "source": [
    "resize_images('data/640x640/cropped/test/face', 'data/256x256/cropped/test/face', (256,256))"
   ]
  }
 ],
 "metadata": {
  "kernelspec": {
   "display_name": "Python 3",
   "language": "python",
   "name": "python3"
  },
  "language_info": {
   "codemirror_mode": {
    "name": "ipython",
    "version": 3
   },
   "file_extension": ".py",
   "mimetype": "text/x-python",
   "name": "python",
   "nbconvert_exporter": "python",
   "pygments_lexer": "ipython3",
   "version": "3.6.6"
  }
 },
 "nbformat": 4,
 "nbformat_minor": 2
}
